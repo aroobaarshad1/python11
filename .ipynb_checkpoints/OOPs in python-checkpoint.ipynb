{
 "cells": [
  {
   "cell_type": "markdown",
   "id": "d9b43443",
   "metadata": {},
   "source": [
    "# OOPS IN PYTHON\n"
   ]
  },
  {
   "cell_type": "code",
   "execution_count": 1,
   "id": "506ecee6",
   "metadata": {},
   "outputs": [
    {
     "data": {
      "text/plain": [
       "['__add__',\n",
       " '__class__',\n",
       " '__contains__',\n",
       " '__delattr__',\n",
       " '__dir__',\n",
       " '__doc__',\n",
       " '__eq__',\n",
       " '__format__',\n",
       " '__ge__',\n",
       " '__getattribute__',\n",
       " '__getitem__',\n",
       " '__getnewargs__',\n",
       " '__getstate__',\n",
       " '__gt__',\n",
       " '__hash__',\n",
       " '__init__',\n",
       " '__init_subclass__',\n",
       " '__iter__',\n",
       " '__le__',\n",
       " '__len__',\n",
       " '__lt__',\n",
       " '__mod__',\n",
       " '__mul__',\n",
       " '__ne__',\n",
       " '__new__',\n",
       " '__reduce__',\n",
       " '__reduce_ex__',\n",
       " '__repr__',\n",
       " '__rmod__',\n",
       " '__rmul__',\n",
       " '__setattr__',\n",
       " '__sizeof__',\n",
       " '__str__',\n",
       " '__subclasshook__',\n",
       " 'capitalize',\n",
       " 'casefold',\n",
       " 'center',\n",
       " 'count',\n",
       " 'encode',\n",
       " 'endswith',\n",
       " 'expandtabs',\n",
       " 'find',\n",
       " 'format',\n",
       " 'format_map',\n",
       " 'index',\n",
       " 'isalnum',\n",
       " 'isalpha',\n",
       " 'isascii',\n",
       " 'isdecimal',\n",
       " 'isdigit',\n",
       " 'isidentifier',\n",
       " 'islower',\n",
       " 'isnumeric',\n",
       " 'isprintable',\n",
       " 'isspace',\n",
       " 'istitle',\n",
       " 'isupper',\n",
       " 'join',\n",
       " 'ljust',\n",
       " 'lower',\n",
       " 'lstrip',\n",
       " 'maketrans',\n",
       " 'partition',\n",
       " 'removeprefix',\n",
       " 'removesuffix',\n",
       " 'replace',\n",
       " 'rfind',\n",
       " 'rindex',\n",
       " 'rjust',\n",
       " 'rpartition',\n",
       " 'rsplit',\n",
       " 'rstrip',\n",
       " 'split',\n",
       " 'splitlines',\n",
       " 'startswith',\n",
       " 'strip',\n",
       " 'swapcase',\n",
       " 'title',\n",
       " 'translate',\n",
       " 'upper',\n",
       " 'zfill']"
      ]
     },
     "execution_count": 1,
     "metadata": {},
     "output_type": "execute_result"
    }
   ],
   "source": [
    "dir(\"\")"
   ]
  },
  {
   "cell_type": "code",
   "execution_count": 5,
   "id": "c5e6ccff",
   "metadata": {},
   "outputs": [
    {
     "name": "stdout",
     "output_type": "stream",
     "text": [
      "red\n",
      "sweet\n"
     ]
    }
   ],
   "source": [
    "class Apple:\n",
    "    pass\n",
    "class Apple:\n",
    "    color=\"\"\n",
    "    flavor=\"\"\n",
    "jonagold=Apple()\n",
    "jonagold.color=\"red\"\n",
    "jonagold.flavor=\"sweet\"\n",
    "print (jonagold.color)\n",
    "print(jonagold.flavor)"
   ]
  },
  {
   "cell_type": "markdown",
   "id": "2c2066a7",
   "metadata": {},
   "source": [
    "# DOT NOTATION"
   ]
  },
  {
   "cell_type": "code",
   "execution_count": 7,
   "id": "da5bcef3",
   "metadata": {},
   "outputs": [
    {
     "name": "stdout",
     "output_type": "stream",
     "text": [
      "red\n",
      "sweet\n",
      "RED\n"
     ]
    }
   ],
   "source": [
    "class Apple:\n",
    "    pass\n",
    "class Apple:\n",
    "    color=\"\"\n",
    "    flavor=\"\"\n",
    "jonagold=Apple()\n",
    "jonagold.color=\"red\"\n",
    "jonagold.flavor=\"sweet\"\n",
    "print (jonagold.color)\n",
    "print(jonagold.flavor)\n",
    "print(jonagold.color.upper())"
   ]
  },
  {
   "cell_type": "code",
   "execution_count": 9,
   "id": "fa7c9185",
   "metadata": {},
   "outputs": [
    {
     "name": "stdout",
     "output_type": "stream",
     "text": [
      "red\n",
      "sweet\n",
      "RED\n",
      "yellow\n",
      "soft\n"
     ]
    }
   ],
   "source": [
    "class Apple:\n",
    "    pass\n",
    "class Apple:\n",
    "    color=\"\"\n",
    "    flavor=\"\"\n",
    "jonagold=Apple()\n",
    "jonagold.color=\"red\"\n",
    "jonagold.flavor=\"sweet\"\n",
    "print (jonagold.color)\n",
    "print(jonagold.flavor)\n",
    "print(jonagold.color.upper())\n",
    "golden=Apple()\n",
    "golden.color=\"yellow\"\n",
    "golden.flavor=\"soft\"\n",
    "print(golden.color)\n",
    "print(golden.flavor)"
   ]
  },
  {
   "cell_type": "code",
   "execution_count": 10,
   "id": "5ef4f54d",
   "metadata": {},
   "outputs": [
    {
     "name": "stdout",
     "output_type": "stream",
     "text": [
      "roses arered,\n",
      "violets areblue,\n",
      "Sugar is sweet so are you.\n"
     ]
    }
   ],
   "source": [
    "class Flower:\n",
    "    color='unknown'\n",
    "rose=Flower()\n",
    "rose.color=\"red\"\n",
    "violet=Flower()\n",
    "violet.color=\"blue\"\n",
    "this_pun_is_for_you=\"Sugar is sweet so are you.\"\n",
    "print(\"roses are{},\".format(rose.color))\n",
    "print(\"violets are{},\".format(violet.color))\n",
    "print(this_pun_is_for_you)"
   ]
  },
  {
   "cell_type": "markdown",
   "id": "b9b4075c",
   "metadata": {},
   "source": [
    "# INSTANCE METHOD"
   ]
  },
  {
   "cell_type": "code",
   "execution_count": 11,
   "id": "ec713799",
   "metadata": {},
   "outputs": [
    {
     "name": "stdout",
     "output_type": "stream",
     "text": [
      "Meow Meow Meow....\n"
     ]
    }
   ],
   "source": [
    "class Cat:\n",
    "    def speak(self):\n",
    "        print(\"Meow Meow Meow....\")\n",
    "myCat=Cat()\n",
    "myCat.speak()"
   ]
  },
  {
   "cell_type": "code",
   "execution_count": 12,
   "id": "ef3aaa3a",
   "metadata": {},
   "outputs": [
    {
     "name": "stdout",
     "output_type": "stream",
     "text": [
      "Meow!I amLuna!Meow\n"
     ]
    }
   ],
   "source": [
    "class Cat:\n",
    "    name=\"\"\n",
    "    def speak(self):\n",
    "        print(\"Meow!I am{}!Meow\".format(self.name))\n",
    "myLuna=Cat()\n",
    "myLuna.name=\"Luna\"\n",
    "myLuna.speak()"
   ]
  },
  {
   "cell_type": "code",
   "execution_count": 13,
   "id": "a11a35e1",
   "metadata": {},
   "outputs": [
    {
     "name": "stdout",
     "output_type": "stream",
     "text": [
      "Meow!I amLuna!Meow\n",
      "Meow!I amBella!Meow\n"
     ]
    }
   ],
   "source": [
    "class Cat:\n",
    "    name=\"\"\n",
    "    def speak(self):\n",
    "        print(\"Meow!I am{}!Meow\".format(self.name))\n",
    "myLuna=Cat()\n",
    "myLuna.name=\"Luna\"\n",
    "myLuna.speak()\n",
    "myBella=Cat()\n",
    "myBella.name=\"Bella\"\n",
    "myBella.speak()"
   ]
  },
  {
   "cell_type": "code",
   "execution_count": 14,
   "id": "d3b10216",
   "metadata": {},
   "outputs": [
    {
     "data": {
      "text/plain": [
       "0"
      ]
     },
     "execution_count": 14,
     "metadata": {},
     "output_type": "execute_result"
    }
   ],
   "source": [
    "class Cat:\n",
    "    years=0\n",
    "    def age (self):\n",
    "        return self.years*12\n",
    "myLuna=Cat()\n",
    "myLuna.age()"
   ]
  },
  {
   "cell_type": "code",
   "execution_count": 15,
   "id": "880bdbc0",
   "metadata": {},
   "outputs": [
    {
     "data": {
      "text/plain": [
       "24"
      ]
     },
     "execution_count": 15,
     "metadata": {},
     "output_type": "execute_result"
    }
   ],
   "source": [
    "class Cat:\n",
    "    years=0\n",
    "    def age (self):\n",
    "        return self.years*12\n",
    "myLuna=Cat()\n",
    "myLuna.years=2\n",
    "myLuna.age()"
   ]
  },
  {
   "cell_type": "code",
   "execution_count": 17,
   "id": "97985298",
   "metadata": {},
   "outputs": [
    {
     "name": "stdout",
     "output_type": "stream",
     "text": [
      "red\n"
     ]
    }
   ],
   "source": [
    "class Apple:\n",
    "    def __init__(self,color,flavor):\n",
    "        self.color=color\n",
    "        self.flavor=flavor\n",
    "jonagold=Apple(\"red\",\"sweet\")\n",
    "print(jonagold.color)"
   ]
  },
  {
   "cell_type": "code",
   "execution_count": 20,
   "id": "4a3b50fe",
   "metadata": {},
   "outputs": [
    {
     "name": "stdout",
     "output_type": "stream",
     "text": [
      "This apple is red and its flavor is sweet\n"
     ]
    }
   ],
   "source": [
    "class Apple:\n",
    "    def __init__(self,color,flavor):\n",
    "        self.color=color\n",
    "        self.flavor=flavor\n",
    "    def __str__(self):\n",
    "        return \"This apple is {} and its flavor is {}\".format(self.color,self.flavor)\n",
    "jonagold=Apple(\"red\",\"sweet\")\n",
    "print(jonagold)\n"
   ]
  },
  {
   "cell_type": "markdown",
   "id": "3e5ad041",
   "metadata": {},
   "source": [
    "# Documentation with DOCSTRINGS"
   ]
  },
  {
   "cell_type": "code",
   "execution_count": 21,
   "id": "d997a0db",
   "metadata": {},
   "outputs": [
    {
     "name": "stdout",
     "output_type": "stream",
     "text": [
      "Help on class Apple in module __main__:\n",
      "\n",
      "class Apple(builtins.object)\n",
      " |  Apple(color, flavor)\n",
      " |  \n",
      " |  Methods defined here:\n",
      " |  \n",
      " |  __init__(self, color, flavor)\n",
      " |      Initialize self.  See help(type(self)) for accurate signature.\n",
      " |  \n",
      " |  __str__(self)\n",
      " |      Return str(self).\n",
      " |  \n",
      " |  ----------------------------------------------------------------------\n",
      " |  Data descriptors defined here:\n",
      " |  \n",
      " |  __dict__\n",
      " |      dictionary for instance variables (if defined)\n",
      " |  \n",
      " |  __weakref__\n",
      " |      list of weak references to the object (if defined)\n",
      "\n"
     ]
    }
   ],
   "source": [
    "class Apple:\n",
    "    def __init__(self,color,flavor):\n",
    "        self.color=color\n",
    "        self.flavor=flavor\n",
    "    def __str__(self):\n",
    "        return \"This apple is {} and its flavor is {}\".format(self.color,self.flavor)\n",
    "help(Apple)"
   ]
  },
  {
   "cell_type": "code",
   "execution_count": 26,
   "id": "2a75b7d3",
   "metadata": {},
   "outputs": [
    {
     "name": "stdout",
     "output_type": "stream",
     "text": [
      "Help on function to_seconds in module __main__:\n",
      "\n",
      "to_seconds(hours, minutes, seconds)\n",
      "    Returns the amount of seconds in given hours,minutes and seconds.\n",
      "\n"
     ]
    }
   ],
   "source": [
    "def to_seconds(hours,minutes,seconds):\n",
    "    \"\"\"Returns the amount of seconds in given hours,minutes and seconds.\"\"\"\n",
    "    return hours*3600+minutes*60+seconds\n",
    "help(to_seconds)"
   ]
  },
  {
   "cell_type": "code",
   "execution_count": 28,
   "id": "0e1e2a9a",
   "metadata": {},
   "outputs": [
    {
     "name": "stdout",
     "output_type": "stream",
     "text": [
      "Help on class Person in module __main__:\n",
      "\n",
      "class Person(builtins.object)\n",
      " |  Person(name)\n",
      " |  \n",
      " |  Methods defined here:\n",
      " |  \n",
      " |  __init__(self, name)\n",
      " |      Initialize self.  See help(type(self)) for accurate signature.\n",
      " |  \n",
      " |  greeting(self)\n",
      " |      Outputs a message with a name of the person\n",
      " |  \n",
      " |  ----------------------------------------------------------------------\n",
      " |  Data descriptors defined here:\n",
      " |  \n",
      " |  __dict__\n",
      " |      dictionary for instance variables (if defined)\n",
      " |  \n",
      " |  __weakref__\n",
      " |      list of weak references to the object (if defined)\n",
      "\n"
     ]
    }
   ],
   "source": [
    "class Person:\n",
    "    def __init__(self,name):\n",
    "        self.name=name\n",
    "    def greeting(self):\n",
    "        \"\"\"Outputs a message with a name of the person\"\"\"\n",
    "        print(\"hello!My name is {name}.\".format(name=self.name))\n",
    "help(Person)"
   ]
  },
  {
   "cell_type": "code",
   "execution_count": 29,
   "id": "51927ca2",
   "metadata": {},
   "outputs": [],
   "source": [
    "class ClassName:\n",
    "    \"\"\"Documentation for the class\"\"\"\n",
    "    def method_name(self,other_parameters):\n",
    "        \"\"\"Documentation for the method\"\"\"\n",
    "        body_of_the_method\n",
    "    def function_name(parameters):\n",
    "        \"\"\"Documentation for the function\"\"\"\n",
    "        body_of_the_function"
   ]
  },
  {
   "cell_type": "markdown",
   "id": "cea2e6a4",
   "metadata": {},
   "source": [
    "# Inheritance"
   ]
  },
  {
   "cell_type": "code",
   "execution_count": 31,
   "id": "24ca04a6",
   "metadata": {},
   "outputs": [
    {
     "name": "stdout",
     "output_type": "stream",
     "text": [
      "tart\n",
      "purple\n"
     ]
    }
   ],
   "source": [
    "class Fruit:\n",
    "    def __init__(self,color,flavor):\n",
    "        self.color=color\n",
    "        self.flavor=flavor\n",
    "class Apple(Fruit):\n",
    "    pass\n",
    "class Grape(Fruit):\n",
    "    pass\n",
    "granny_smith=Apple(\"green\",\"tart\")\n",
    "carnelian=Grape(\"purple\",\"sweet\")\n",
    "print(granny_smith.flavor)\n",
    "print(carnelian.color)"
   ]
  },
  {
   "cell_type": "code",
   "execution_count": 32,
   "id": "2a74f6ee",
   "metadata": {},
   "outputs": [
    {
     "name": "stdout",
     "output_type": "stream",
     "text": [
      "Meow I'm Luna!Meow\n"
     ]
    }
   ],
   "source": [
    "class Animal:\n",
    "    sound=\"\"\n",
    "    def __init__(self,name):\n",
    "        self.name=name\n",
    "    def speak(self):\n",
    "        print(\"{sound} I'm {name}!{sound}\".format(name=self.name,sound=self.sound))\n",
    "class Cat(Animal):\n",
    "    sound=\"Meow\"\n",
    "myLuna=Cat(\"Luna\")\n",
    "myLuna.speak()"
   ]
  },
  {
   "cell_type": "code",
   "execution_count": 33,
   "id": "6f68efd5",
   "metadata": {},
   "outputs": [
    {
     "name": "stdout",
     "output_type": "stream",
     "text": [
      "Meow I'm Luna!Meow\n",
      "Mooo I'm milky!Mooo\n"
     ]
    }
   ],
   "source": [
    "class Animal:\n",
    "    sound=\"\"\n",
    "    def __init__(self,name):\n",
    "        self.name=name\n",
    "    def speak(self):\n",
    "        print(\"{sound} I'm {name}!{sound}\".format(name=self.name,sound=self.sound))\n",
    "class Cat(Animal):\n",
    "    sound=\"Meow\"\n",
    "myLuna=Cat(\"Luna\")\n",
    "myLuna.speak()\n",
    "class Cow(Animal):\n",
    "    sound=\"Mooo\"\n",
    "myCow=Cow(\"milky\")\n",
    "myCow.speak()"
   ]
  },
  {
   "cell_type": "code",
   "execution_count": 34,
   "id": "49c1c088",
   "metadata": {},
   "outputs": [
    {
     "name": "stdout",
     "output_type": "stream",
     "text": [
      "this Polo is made of cotton\n"
     ]
    }
   ],
   "source": [
    "class Clothing:\n",
    "    material=\"\"\n",
    "    def __init__(self,name):\n",
    "        self.name=name\n",
    "    def checkmaterial(self):\n",
    "        print(\"this {} is made of {}\".format(self.name,self.material))\n",
    "class Shirt(Clothing):\n",
    "    material=\"cotton\"\n",
    "polo=Shirt(\"Polo\")\n",
    "polo.checkmaterial()"
   ]
  },
  {
   "cell_type": "markdown",
   "id": "5d11adf6",
   "metadata": {},
   "source": [
    "# Object Composition"
   ]
  },
  {
   "cell_type": "code",
   "execution_count": 38,
   "id": "cbb6baa9",
   "metadata": {},
   "outputs": [],
   "source": [
    "class Repository:\n",
    "    def __init__(self):\n",
    "        self.packages={}\n",
    "    def add_package(self,package):\n",
    "        self.packages[package.name]=package\n",
    "    def total_size(self):\n",
    "        result=0\n",
    "        for package in self.packages.values():\n",
    "            result+=package.size\n",
    "        return result"
   ]
  },
  {
   "cell_type": "code",
   "execution_count": 39,
   "id": "06aaafd3",
   "metadata": {},
   "outputs": [
    {
     "data": {
      "text/plain": [
       "8"
      ]
     },
     "execution_count": 39,
     "metadata": {},
     "output_type": "execute_result"
    }
   ],
   "source": [
    "import random\n",
    "random.randint(1,10)\n"
   ]
  },
  {
   "cell_type": "code",
   "execution_count": 40,
   "id": "e0719236",
   "metadata": {},
   "outputs": [
    {
     "data": {
      "text/plain": [
       "5"
      ]
     },
     "execution_count": 40,
     "metadata": {},
     "output_type": "execute_result"
    }
   ],
   "source": [
    "random.randint(1,10)"
   ]
  },
  {
   "cell_type": "code",
   "execution_count": 51,
   "id": "d04368cf",
   "metadata": {},
   "outputs": [
    {
     "name": "stdout",
     "output_type": "stream",
     "text": [
      "2023-09-26 22:20:05.110831\n"
     ]
    }
   ],
   "source": [
    "import datetime\n",
    "now=datetime.datetime.now()\n",
    "type(now)\n",
    "\n",
    "print(now)"
   ]
  },
  {
   "cell_type": "code",
   "execution_count": 52,
   "id": "12047607",
   "metadata": {},
   "outputs": [
    {
     "name": "stdout",
     "output_type": "stream",
     "text": [
      "2023-09-26 22:20:05.110831\n"
     ]
    }
   ],
   "source": [
    "print(now)"
   ]
  },
  {
   "cell_type": "code",
   "execution_count": 53,
   "id": "432d0c2f",
   "metadata": {},
   "outputs": [
    {
     "data": {
      "text/plain": [
       "2023"
      ]
     },
     "execution_count": 53,
     "metadata": {},
     "output_type": "execute_result"
    }
   ],
   "source": [
    "now.year"
   ]
  },
  {
   "cell_type": "code",
   "execution_count": 54,
   "id": "2e5ab9e7",
   "metadata": {},
   "outputs": [
    {
     "name": "stdout",
     "output_type": "stream",
     "text": [
      "2023-10-24 22:20:05.110831\n"
     ]
    }
   ],
   "source": [
    "print(now+datetime.timedelta(days=28))"
   ]
  },
  {
   "cell_type": "code",
   "execution_count": null,
   "id": "1df723aa",
   "metadata": {},
   "outputs": [],
   "source": []
  }
 ],
 "metadata": {
  "kernelspec": {
   "display_name": "Python 3 (ipykernel)",
   "language": "python",
   "name": "python3"
  },
  "language_info": {
   "codemirror_mode": {
    "name": "ipython",
    "version": 3
   },
   "file_extension": ".py",
   "mimetype": "text/x-python",
   "name": "python",
   "nbconvert_exporter": "python",
   "pygments_lexer": "ipython3",
   "version": "3.11.4"
  }
 },
 "nbformat": 4,
 "nbformat_minor": 5
}
